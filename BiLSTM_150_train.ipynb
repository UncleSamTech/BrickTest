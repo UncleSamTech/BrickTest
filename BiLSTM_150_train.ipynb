{
  "cells": [
    {
      "cell_type": "markdown",
      "metadata": {
        "id": "view-in-github",
        "colab_type": "text"
      },
      "source": [
        "<a href=\"https://colab.research.google.com/github/UncleSamTech/BrickTest/blob/main/BiLSTM_150_train.ipynb\" target=\"_parent\"><img src=\"https://colab.research.google.com/assets/colab-badge.svg\" alt=\"Open In Colab\"/></a>"
      ]
    },
    {
      "cell_type": "code",
      "execution_count": 1,
      "metadata": {
        "id": "GWry5t19lp8z"
      },
      "outputs": [],
      "source": [
        "import pandas as pd\n",
        "import os\n",
        "import numpy as np\n",
        "import random\n",
        "import tensorflow as tf\n",
        "from tensorflow import keras\n",
        "from tensorflow.keras.preprocessing.sequence import pad_sequences\n",
        "from tensorflow.keras.layers import Embedding, LSTM, Dense, Bidirectional\n",
        "from tensorflow.keras.preprocessing.text import Tokenizer\n",
        "from tensorflow.keras.models import Sequential\n",
        "from tensorflow.keras.optimizers import Adam\n",
        "from tensorflow.keras.models import load_model\n",
        "import matplotlib.pyplot as plt\n",
        "from tensorflow.keras.callbacks import ReduceLROnPlateau\n",
        "from tensorflow.keras.callbacks import EarlyStopping\n",
        "from datetime import datetime\n",
        "from sklearn.metrics import accuracy_score, precision_score, recall_score,f1_score,confusion_matrix\n",
        "import pickle\n",
        "import time\n",
        "from sklearn.utils.class_weight import compute_class_weight\n",
        "import seaborn as sns"
      ]
    },
    {
      "cell_type": "code",
      "execution_count": 2,
      "metadata": {
        "id": "bZwrAcE5l0MP"
      },
      "outputs": [],
      "source": [
        "data = None\n",
        "token_list = []\n",
        "tokenizer = None\n",
        "input_sequences = []\n",
        "total_words = 0\n",
        "ne_input_sequences = []\n",
        "encompass = []\n",
        "model = keras.Sequential()"
      ]
    },
    {
      "cell_type": "code",
      "execution_count": 3,
      "metadata": {
        "id": "bQzthKYymBRb"
      },
      "outputs": [],
      "source": [
        "def tokenize_data_inp_seq(file_name, result_path):\n",
        "        with open(file_name, \"r\", encoding=\"utf-8\") as rf:\n",
        "            lines = rf.readlines()\n",
        "            #shuffle trainset every run\n",
        "            random.shuffle(lines)\n",
        "            # Replace specific characters\n",
        "            lines = [line.replace(\"_\", \"UNDERSCORE\").replace(\">\", \"RIGHTANG\").replace(\"<\", \"LEFTANG\").lower() for line in lines]\n",
        "\n",
        "\n",
        "            # Initialize and fit the tokenizer\n",
        "            tokenizer = Tokenizer(oov_token='<oov>')\n",
        "            tokenizer.fit_on_texts(lines)\n",
        "\n",
        "            # Save the tokenizer\n",
        "            with open(f\"{result_path}tokenized_file_50embedtime1.pickle\", \"wb\") as tk:\n",
        "                pickle.dump(tokenizer, tk, protocol=pickle.HIGHEST_PROTOCOL)\n",
        "\n",
        "            # Define total_words based on the tokenizer\n",
        "            total_words = len(tokenizer.word_index) + 1  # +1 to account for <oov>\n",
        "\n",
        "            print(f\"Total words (vocabulary size): {total_words}\")\n",
        "\n",
        "            # Generate token sequences (ngrams)\n",
        "            encompass = []\n",
        "            max_index = 0  # Track max token index to verify alignment with `total_words`\n",
        "            for each_line in lines:\n",
        "                each_line = each_line.strip()\n",
        "                token_list = tokenizer.texts_to_sequences([each_line])[0]\n",
        "                #max_index = max(max_index, max(self.token_list, default=0))  # Update max_index\n",
        "                for i in range(1, len(token_list)):\n",
        "                    ngram_seq = token_list[:i + 1]\n",
        "                    encompass.append(ngram_seq)\n",
        "\n",
        "            # Verify that total_words aligns with max index in token_list\n",
        "            # if max_index >= self.total_words:\n",
        "            #     print(f\"Adjusting total_words to cover max token index: {max_index}\")\n",
        "            #     self.total_words = max_index + 1  # Update total_words if needed\n",
        "\n",
        "            #print(f\"First stage complete with encompass: {self.encompass}, total_words: {self.total_words}\")\n",
        "            return encompass, total_words, tokenizer\n"
      ]
    },
    {
      "cell_type": "code",
      "execution_count": 4,
      "metadata": {
        "id": "l71M9gL_mUWB"
      },
      "outputs": [],
      "source": [
        "def quick_iterate(list_words):\n",
        "        word_lengths = {word: len(word) for word in list_words if isinstance(list_words,list) and len(list_words) > 0}\n",
        "        max_word = max(word_lengths,key=word_lengths.get)\n",
        "        max_count = word_lengths[max_word]\n",
        "\n",
        "        max_word_dict = {max_word:max_count}\n",
        "        return word_lengths, max_word_dict"
      ]
    },
    {
      "cell_type": "code",
      "execution_count": 5,
      "metadata": {
        "id": "Bf-TBBOEmY41"
      },
      "outputs": [],
      "source": [
        "def pad_sequ(input_seq):\n",
        "\n",
        "        max_seq_len = max([len(x) for x in input_seq])\n",
        "        padded_in_seq = np.array(pad_sequences(input_seq,maxlen=max_seq_len,padding='pre'))\n",
        "        #print(\"input shape training  \", padded_in_seq.shape)\n",
        "        return padded_in_seq,max_seq_len"
      ]
    },
    {
      "cell_type": "code",
      "execution_count": 6,
      "metadata": {
        "id": "3P1WKI6Tmf5a"
      },
      "outputs": [],
      "source": [
        "def prep_seq_labels(padded_seq,total_words):\n",
        "        xs,labels = padded_seq[:,:-1],padded_seq[:,-1]\n",
        "\n",
        "        max_label_index = np.max(labels)\n",
        "        if max_label_index >= total_words:\n",
        "            print(f\"Adjusting total_words from {total_words} to {max_label_index + 1} based on labels.\")\n",
        "            total_words = max_label_index + 1\n",
        "\n",
        "        # Ensure labels do not exceed the total words range\n",
        "        if np.any(labels >= total_words):\n",
        "            raise ValueError(f\"Labels contain indices >= total_words: {np.max(labels)} >= {total_words}\")\n",
        "\n",
        "        ys = tf.keras.utils.to_categorical(labels, num_classes=total_words)\n",
        "        return xs, ys, labels"
      ]
    },
    {
      "cell_type": "code",
      "execution_count": 7,
      "metadata": {
        "id": "I-RrYXGomyaV"
      },
      "outputs": [],
      "source": [
        "def predict_token(context, tokenz, load_mod, maxseqlen):\n",
        "        token_list = None\n",
        "        token_value = None\n",
        "        output_word = \"\"\n",
        "\n",
        "\n",
        "        # Tokenize context\n",
        "        context = context.strip()\n",
        "        #context = context.replace(\"_\",\"UNDERSCORE\")\n",
        "        token_list = tokenz.texts_to_sequences([context])\n",
        "        if not token_list or len(token_list[0]) == 0:\n",
        "            print(\"Empty token list, unable to predict token.\")\n",
        "            return None\n",
        "\n",
        "        token_value = token_list[0]\n",
        "        padded_in_seq = pad_sequences([token_value], maxlen=maxseqlen - 1, padding='pre')\n",
        "\n",
        "        # Ensure input is a tensor with consistent shape\n",
        "        padded_in_seq = tf.convert_to_tensor(padded_in_seq)\n",
        "\n",
        "        # Predict the next token\n",
        "        predicted = load_mod.predict(padded_in_seq)\n",
        "\n",
        "        # Retrieve the predicted token\n",
        "        pred_token_index = np.argmax(predicted, axis=-1)\n",
        "        for token, index in tokenz.word_index.items():\n",
        "            if index == pred_token_index:\n",
        "                output_word = token\n",
        "                print(output_word)\n",
        "                break\n",
        "        #output_word  = output_word.replace(\"UNDERSCORE\",\"_\")\n",
        "        return output_word"
      ]
    },
    {
      "cell_type": "code",
      "execution_count": 8,
      "metadata": {
        "id": "kN3pFIn0m3t5"
      },
      "outputs": [],
      "source": [
        "def load_trained_model(model_name) :\n",
        "        with open(model_name,\"rb\") as f:\n",
        "            loaded_scratch_model = pickle.load(f)\n",
        "        return loaded_scratch_model"
      ]
    },
    {
      "cell_type": "code",
      "source": [
        "def compute_confusion_matrix(y_true, y_pred, result_path, proj_number,run,top_k=10):\n",
        "        labels = np.unique(np.concatenate((y_true, y_pred)))  # Get unique labels\n",
        "        id2label = {i: str(label) for i, label in enumerate(labels)}  # Map indices to labels\n",
        "        label2id = {v: k for k, v in id2label.items()}  # Reverse mapping (if needed)\n",
        "\n",
        "        # Compute confusion matrix\n",
        "        print(\"\\nComputing Confusion Matrix...\")\n",
        "\n",
        "        # Compute the confusion matrix\n",
        "        conf_matrix = confusion_matrix(y_true, y_pred)\n",
        "        num_classes = conf_matrix.shape[0]\n",
        "        print(f\" number of classes {num_classes}\")\n",
        "        metrics = {id2label[i]:{\"TP\":0,\"FP\":0,\"FN\":0,\"TN\":0} for i in range(num_classes)}\n",
        "        total_tp, total_fp, total_fn, total_tn = 0, 0, 0, 0\n",
        "\n",
        "        for i in range(num_classes):\n",
        "            TP = conf_matrix[i,i]\n",
        "            FP = np.sum(conf_matrix[:,i]) - TP\n",
        "            FN = np.sum(conf_matrix[i, :]) - TP\n",
        "            TN = np.sum(conf_matrix) - (TP + FP + FN)\n",
        "\n",
        "            label = id2label[i]\n",
        "            metrics[label][\"TP\"] = TP\n",
        "            metrics[label][\"FP\"] = FP\n",
        "            metrics[label][\"FN\"] = FN\n",
        "            metrics[label][\"TN\"] = TN\n",
        "\n",
        "            total_tp += TP\n",
        "            total_fp += FP\n",
        "            total_fn += FN\n",
        "            total_tn += TN\n",
        "\n",
        "        # Write metrics to file and print\n",
        "        with open(f\"{result_path}tp_fp_fn_tn_label_val_{proj_number}_{run}.txt\", \"w\") as af:\n",
        "            af.write(\"Class,TP,FP,FN,TN\\n\")  # Header\n",
        "            for label, values in metrics.items():\n",
        "                #print(f\"Label {label}: TP={values['TP']}, FP={values['FP']}, FN={values['FN']}, TN={values['TN']}\")\n",
        "                af.write(f\"{label},{values['TP']},{values['FP']},{values['FN']},{values['TN']}\\n\")\n",
        "\n",
        "        # Print total metrics\n",
        "        with open(f\"{result_path}total_results_bilstm_tp_tn_fp_fn_{proj_number}_{run}.txt\",\"w\") as tot:\n",
        "          tot.write(\"total_tn,total_fp,total_fn,total_tp\\n\")\n",
        "          tot.write(f\"{total_tn},{total_fp},{total_fn},{total_tp}\")\n",
        "        print(f\"\\nTotal TP={total_tp}, FP={total_fp}, FN={total_fn}, TN={total_tn}\")\n",
        "        print(f\"Confusion Matrix:\\n{conf_matrix}\")\n",
        "\n",
        "        conf_matrix = np.array([[total_tp, total_fn],\n",
        "                            [total_fp, total_tn]])\n",
        "\n",
        "        # Plotting the confusion matrix\n",
        "        plt.figure(figsize=(6, 4))\n",
        "        sns.heatmap(conf_matrix, annot=True, fmt='g', cmap='Blues', cbar=False,\n",
        "                xticklabels=['Predicted Positive', 'Predicted Negative'],\n",
        "                yticklabels=['Actual Positive', 'Actual Negative'])\n",
        "\n",
        "        plt.title(\"Confusion Matrix\")\n",
        "        plt.xlabel(\"Predicted\")\n",
        "        plt.ylabel(\"Actual\")\n",
        "        #plt.show()\n",
        "\n",
        "        # # Get the unique class labels in sorted order (this will be used for indexing)\n",
        "        # unique_classes = np.unique(np.concatenate((y_true, y_pred)))  # Combine y_true and y_pred to cover all classes\n",
        "\n",
        "        # # Determine the top-k most frequent classes based on y_true\n",
        "        # class_counts = pd.Series(y_true).value_counts().head(top_k).index\n",
        "\n",
        "        # # Map the class labels to indices based on the sorted unique classes\n",
        "        # class_indices = [np.where(unique_classes == label)[0][0] for label in class_counts]\n",
        "\n",
        "        # # Use np.ix_ to index into the confusion matrix\n",
        "        # filtered_conf_matrix = conf_matrix[np.ix_(class_indices, class_indices)]\n",
        "\n",
        "        # # Optional: Save confusion matrix as a heatmap\n",
        "        # plt.figure(figsize=(10, 8))\n",
        "        # sns.heatmap(filtered_conf_matrix, annot=True, fmt='d', cmap='Blues',\n",
        "        #         xticklabels=class_counts, yticklabels=class_counts)\n",
        "\n",
        "        # # Rotate x-axis labels to avoid overlap\n",
        "        # plt.xticks(rotation=45, ha='right')  # Rotate labels and align them to the right\n",
        "        # plt.yticks(rotation=0)  # Keep y-axis labels as they are\n",
        "\n",
        "        # plt.xlabel('Predicted Labels')\n",
        "        # plt.ylabel('True Labels')\n",
        "        # plt.title(f'Confusion Matrix (Top {top_k} Classes)')\n",
        "        # # Adjust layout to make sure everything fits\n",
        "        # plt.tight_layout()\n",
        "        plt.savefig(f\"{result_path}confusion_matrix_run_an_bilstm_{proj_number}_{run}.pdf\")\n",
        "        plt.close()\n",
        "\n"
      ],
      "metadata": {
        "id": "LSB_QP8BiImC"
      },
      "execution_count": 10,
      "outputs": []
    },
    {
      "cell_type": "code",
      "execution_count": 11,
      "metadata": {
        "id": "aht2vmDIm7mg"
      },
      "outputs": [],
      "source": [
        "def evaluate_bilstm(test_data,maxlen,model,result_path,proj_number,train_time,run):\n",
        "        y_true = []\n",
        "        y_pred = []\n",
        "        tokenz = None\n",
        "        #loaded_model = load_model(f\"{model_path}\",compile=False)\n",
        "        with open(f\"{result_path}tokenized_file_50embedtime1.pickle\",\"rb\") as tk:\n",
        "            tokenz = pickle.load(tk)\n",
        "\n",
        "\n",
        "        # Start the evaluation timer\n",
        "        start_time = time.time()\n",
        "\n",
        "        with open(test_data,\"r\",encoding=\"utf-8\") as f:\n",
        "            lines= f.readlines()\n",
        "            random.shuffle(lines)\n",
        "\n",
        "            lines = [line.replace(\"_\", \"UNDERSCORE\").replace(\">\", \"RIGHTANG\").replace(\"<\", \"LEFTANG\").lower() for line in lines]\n",
        "            for i,line in enumerate(lines):\n",
        "\n",
        "                line = line.strip()\n",
        "\n",
        "\n",
        "                sentence_tokens = line.split(\" \")\n",
        "\n",
        "                context = ' '.join(sentence_tokens[:-1])  # Use all words except the last one as context\n",
        "                true_next_word = sentence_tokens[-1]\n",
        "\n",
        "                predicted_next_word = predict_token(context,tokenz,model,maxlen)\n",
        "\n",
        "\n",
        "\n",
        "                if predicted_next_word is not None:\n",
        "                    y_true.append(true_next_word)\n",
        "\n",
        "                    y_pred.append(predicted_next_word)\n",
        "\n",
        "\n",
        "                if i % 500 == 0:\n",
        "                    print(f\"Progress: {i} lines processed.\")\n",
        "\n",
        "        if not y_true or not y_pred:\n",
        "            print(\"No valid predictions made.\")\n",
        "            return None, None, None, None\n",
        "\n",
        "        end_time = time.time()\n",
        "        time_spent = end_time - start_time\n",
        "        accuracy = accuracy_score(y_true, y_pred)\n",
        "        precision = precision_score(y_true, y_pred, average='weighted',zero_division=np.nan)\n",
        "        recall = recall_score(y_true, y_pred, average='weighted',zero_division=np.nan)\n",
        "        f1score = f1_score(y_true,y_pred,average=\"weighted\")\n",
        "\n",
        "        metrics_file = f\"{result_path}bilstmmetrics_150embedtime1_{proj_number}_projects.txt\"\n",
        "        if not os.path.exists(metrics_file) or os.path.getsize(metrics_file) == 0:\n",
        "            with open(metrics_file,\"a\") as fl:\n",
        "                fl.write(f\"accuracy,precision,recall,f1score,training_time,evaluation_time\\n\")\n",
        "        with open(metrics_file,\"a\") as blm:\n",
        "            blm.write(f\"{accuracy},{precision},{recall},{f1score},{train_time},{time_spent:.2f}\\n\")\n",
        "\n",
        "        compute_confusion_matrix(y_true,y_pred,result_path,proj_number,run)\n",
        "\n",
        "        return accuracy,precision,recall,f1score\n"
      ]
    },
    {
      "cell_type": "code",
      "execution_count": 14,
      "metadata": {
        "id": "AUvHXm49nfIp"
      },
      "outputs": [],
      "source": [
        "def train_model_five_runs(total_words, max_seq, xs, ys, result_path,test_data,proj_number):\n",
        "        print(tf.__version__)\n",
        "        print(\"max length\",max_seq)\n",
        "\n",
        "\n",
        "        gpus = tf.config.experimental.list_physical_devices('GPU')\n",
        "        if gpus:\n",
        "            print(f\"Default GPU device: {gpus[0]}\")\n",
        "            try:\n",
        "                for gpu in gpus:\n",
        "                    tf.config.experimental.set_memory_growth(gpu, True)\n",
        "                print(f\"Using GPU: {tf.test.gpu_device_name()}\")\n",
        "\n",
        "            except RuntimeError as e:\n",
        "                print(f\"Error setting up GPU: {e}\")\n",
        "                return\n",
        "\n",
        "        else:\n",
        "            print(\"No GPU available. Running on CPU.\")\n",
        "\n",
        "\n",
        "        lr_scheduler = ReduceLROnPlateau(monitor='loss', factor=0.1, patience=5, verbose=1)\n",
        "        early_stopping = EarlyStopping(monitor='loss', patience=10, restore_best_weights=True)\n",
        "\n",
        "\n",
        "        # Run model training for 5 runs, with each run with a sampled data\n",
        "\n",
        "        for run in range(1, 6):\n",
        "            print(f\"\\nStarting run {run}...\\n\")\n",
        "            start_time = time.time()\n",
        "\n",
        "\n",
        "\n",
        "            model = Sequential([\n",
        "                Embedding(total_words, 100, input_shape=(max_seq - 1,)),\n",
        "                Bidirectional(LSTM(150)),\n",
        "                Dense(total_words, activation='softmax')\n",
        "                ])\n",
        "            adam = Adam(learning_rate=0.01)\n",
        "            model.compile(loss='categorical_crossentropy', optimizer=adam, metrics=['accuracy'])\n",
        "\n",
        "\n",
        "\n",
        "            # Fit the model\n",
        "            history = model.fit(xs, ys, epochs=50, verbose=2, callbacks=[lr_scheduler, early_stopping])\n",
        "\n",
        "            # Save the history\n",
        "            with open(f\"{result_path}main_historyrec_150embedtime{run}.pickle\", \"wb\") as hs:\n",
        "                pickle.dump(history.history, hs)\n",
        "\n",
        "            #save the model for every run\n",
        "            file_name = f\"{result_path}main_bilstm_scratch_model_150embedtime1_main_sample_project{proj_number}_run{run}.keras\"\n",
        "\n",
        "            if os.path.exists(file_name):\n",
        "                os.remove(file_name)\n",
        "            model.save(file_name)\n",
        "\n",
        "            end_time = time.time()\n",
        "            time_spent = end_time - start_time\n",
        "            print(f\"Run {run} complete. Training time: {time_spent:.2f} seconds\")\n",
        "\n",
        "            # Save the model and record training details\n",
        "            #model_file_name = f\"{result_path}main_bilstm_scratch_model_150embedtime1_main_{run}.keras\"\n",
        "            evaluate_bilstm(test_data,max_seq,model,result_path,proj_number,time_spent,run)\n",
        "            #model.save(model_file_name)\n"
      ]
    },
    {
      "cell_type": "code",
      "execution_count": 13,
      "metadata": {
        "id": "E-sxHDcknob5"
      },
      "outputs": [],
      "source": [
        "def consolidate_data_train(filepath,result_path,test_data,proj_number):\n",
        "        input_seq,total_words,tokenizer = tokenize_data_inp_seq(filepath,result_path)\n",
        "        padd_seq,max_len = pad_sequ(input_seq)\n",
        "        xs,ys,labels = prep_seq_labels(padd_seq,total_words)\n",
        "\n",
        "\n",
        "        train_model_five_runs(total_words,max_len,xs,ys,result_path,test_data,proj_number)\n"
      ]
    },
    {
      "cell_type": "code",
      "execution_count": null,
      "metadata": {
        "colab": {
          "background_save": true,
          "base_uri": "https://localhost:8080/"
        },
        "id": "a-0apZ2Xn54-",
        "outputId": "ba595786-3548-4b47-e420-633f2f9cd4d3"
      },
      "outputs": [
        {
          "output_type": "stream",
          "name": "stdout",
          "text": [
            "Total words (vocabulary size): 457\n",
            "2.17.1\n",
            "max length 47\n",
            "No GPU available. Running on CPU.\n",
            "\n",
            "Starting run 1...\n",
            "\n"
          ]
        },
        {
          "output_type": "stream",
          "name": "stderr",
          "text": [
            "/usr/local/lib/python3.10/dist-packages/keras/src/layers/core/embedding.py:93: UserWarning: Do not pass an `input_shape`/`input_dim` argument to a layer. When using Sequential models, prefer using an `Input(shape)` object as the first layer in the model instead.\n",
            "  super().__init__(**kwargs)\n"
          ]
        },
        {
          "output_type": "stream",
          "name": "stdout",
          "text": [
            "Epoch 1/50\n"
          ]
        }
      ],
      "source": [
        "consolidate_data_train(\"/content/scratch_train_data_500_projects.txt\",\"/content/models_500_projects/\",\"/content/scratch_test_data_20.txt\",\"500\")\n"
      ]
    }
  ],
  "metadata": {
    "colab": {
      "machine_shape": "hm",
      "provenance": [],
      "authorship_tag": "ABX9TyMCdkN5mzvvDY0wnno9wTFE",
      "include_colab_link": true
    },
    "kernelspec": {
      "display_name": "Python 3",
      "name": "python3"
    },
    "language_info": {
      "name": "python"
    }
  },
  "nbformat": 4,
  "nbformat_minor": 0
}